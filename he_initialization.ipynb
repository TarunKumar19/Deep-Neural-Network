{
 "cells": [
  {
   "cell_type": "code",
   "execution_count": 4,
   "metadata": {
    "id": "cKVzInXrteyO"
   },
   "outputs": [],
   "source": [
    "import numpy as np\n",
    "import pandas as pd\n",
    "import matplotlib.pyplot as plt\n",
    "from sklearn.datasets import make_moons"
   ]
  },
  {
   "cell_type": "code",
   "execution_count": 5,
   "metadata": {
    "id": "l-CtLegnti3_"
   },
   "outputs": [],
   "source": [
    "X,y = make_moons(n_samples=250, noise=0.05, random_state=42)"
   ]
  },
  {
   "cell_type": "code",
   "execution_count": null,
   "metadata": {
    "colab": {
     "base_uri": "https://localhost:8080/",
     "height": 206
    },
    "id": "T9P8j9Ubtt9t",
    "outputId": "5e2b98b4-108b-4466-b18a-1dd114692c32"
   },
   "outputs": [
    {
     "data": {
      "text/html": [
       "\n",
       "  <div id=\"df-a1d11e26-bba6-4687-87b8-b1379e18397b\">\n",
       "    <div class=\"colab-df-container\">\n",
       "      <div>\n",
       "<style scoped>\n",
       "    .dataframe tbody tr th:only-of-type {\n",
       "        vertical-align: middle;\n",
       "    }\n",
       "\n",
       "    .dataframe tbody tr th {\n",
       "        vertical-align: top;\n",
       "    }\n",
       "\n",
       "    .dataframe thead th {\n",
       "        text-align: right;\n",
       "    }\n",
       "</style>\n",
       "<table border=\"1\" class=\"dataframe\">\n",
       "  <thead>\n",
       "    <tr style=\"text-align: right;\">\n",
       "      <th></th>\n",
       "      <th>X</th>\n",
       "      <th>Y</th>\n",
       "      <th>class</th>\n",
       "    </tr>\n",
       "  </thead>\n",
       "  <tbody>\n",
       "    <tr>\n",
       "      <th>0</th>\n",
       "      <td>0.0316</td>\n",
       "      <td>0.9870</td>\n",
       "      <td>0.0</td>\n",
       "    </tr>\n",
       "    <tr>\n",
       "      <th>1</th>\n",
       "      <td>2.1200</td>\n",
       "      <td>-0.0462</td>\n",
       "      <td>1.0</td>\n",
       "    </tr>\n",
       "    <tr>\n",
       "      <th>2</th>\n",
       "      <td>0.8820</td>\n",
       "      <td>-0.0758</td>\n",
       "      <td>0.0</td>\n",
       "    </tr>\n",
       "    <tr>\n",
       "      <th>3</th>\n",
       "      <td>-0.0551</td>\n",
       "      <td>-0.0373</td>\n",
       "      <td>1.0</td>\n",
       "    </tr>\n",
       "    <tr>\n",
       "      <th>4</th>\n",
       "      <td>0.8300</td>\n",
       "      <td>-0.5390</td>\n",
       "      <td>1.0</td>\n",
       "    </tr>\n",
       "  </tbody>\n",
       "</table>\n",
       "</div>\n",
       "      <button class=\"colab-df-convert\" onclick=\"convertToInteractive('df-a1d11e26-bba6-4687-87b8-b1379e18397b')\"\n",
       "              title=\"Convert this dataframe to an interactive table.\"\n",
       "              style=\"display:none;\">\n",
       "        \n",
       "  <svg xmlns=\"http://www.w3.org/2000/svg\" height=\"24px\"viewBox=\"0 0 24 24\"\n",
       "       width=\"24px\">\n",
       "    <path d=\"M0 0h24v24H0V0z\" fill=\"none\"/>\n",
       "    <path d=\"M18.56 5.44l.94 2.06.94-2.06 2.06-.94-2.06-.94-.94-2.06-.94 2.06-2.06.94zm-11 1L8.5 8.5l.94-2.06 2.06-.94-2.06-.94L8.5 2.5l-.94 2.06-2.06.94zm10 10l.94 2.06.94-2.06 2.06-.94-2.06-.94-.94-2.06-.94 2.06-2.06.94z\"/><path d=\"M17.41 7.96l-1.37-1.37c-.4-.4-.92-.59-1.43-.59-.52 0-1.04.2-1.43.59L10.3 9.45l-7.72 7.72c-.78.78-.78 2.05 0 2.83L4 21.41c.39.39.9.59 1.41.59.51 0 1.02-.2 1.41-.59l7.78-7.78 2.81-2.81c.8-.78.8-2.07 0-2.86zM5.41 20L4 18.59l7.72-7.72 1.47 1.35L5.41 20z\"/>\n",
       "  </svg>\n",
       "      </button>\n",
       "      \n",
       "  <style>\n",
       "    .colab-df-container {\n",
       "      display:flex;\n",
       "      flex-wrap:wrap;\n",
       "      gap: 12px;\n",
       "    }\n",
       "\n",
       "    .colab-df-convert {\n",
       "      background-color: #E8F0FE;\n",
       "      border: none;\n",
       "      border-radius: 50%;\n",
       "      cursor: pointer;\n",
       "      display: none;\n",
       "      fill: #1967D2;\n",
       "      height: 32px;\n",
       "      padding: 0 0 0 0;\n",
       "      width: 32px;\n",
       "    }\n",
       "\n",
       "    .colab-df-convert:hover {\n",
       "      background-color: #E2EBFA;\n",
       "      box-shadow: 0px 1px 2px rgba(60, 64, 67, 0.3), 0px 1px 3px 1px rgba(60, 64, 67, 0.15);\n",
       "      fill: #174EA6;\n",
       "    }\n",
       "\n",
       "    [theme=dark] .colab-df-convert {\n",
       "      background-color: #3B4455;\n",
       "      fill: #D2E3FC;\n",
       "    }\n",
       "\n",
       "    [theme=dark] .colab-df-convert:hover {\n",
       "      background-color: #434B5C;\n",
       "      box-shadow: 0px 1px 3px 1px rgba(0, 0, 0, 0.15);\n",
       "      filter: drop-shadow(0px 1px 2px rgba(0, 0, 0, 0.3));\n",
       "      fill: #FFFFFF;\n",
       "    }\n",
       "  </style>\n",
       "\n",
       "      <script>\n",
       "        const buttonEl =\n",
       "          document.querySelector('#df-a1d11e26-bba6-4687-87b8-b1379e18397b button.colab-df-convert');\n",
       "        buttonEl.style.display =\n",
       "          google.colab.kernel.accessAllowed ? 'block' : 'none';\n",
       "\n",
       "        async function convertToInteractive(key) {\n",
       "          const element = document.querySelector('#df-a1d11e26-bba6-4687-87b8-b1379e18397b');\n",
       "          const dataTable =\n",
       "            await google.colab.kernel.invokeFunction('convertToInteractive',\n",
       "                                                     [key], {});\n",
       "          if (!dataTable) return;\n",
       "\n",
       "          const docLinkHtml = 'Like what you see? Visit the ' +\n",
       "            '<a target=\"_blank\" href=https://colab.research.google.com/notebooks/data_table.ipynb>data table notebook</a>'\n",
       "            + ' to learn more about interactive tables.';\n",
       "          element.innerHTML = '';\n",
       "          dataTable['output_type'] = 'display_data';\n",
       "          await google.colab.output.renderOutput(dataTable, element);\n",
       "          const docLink = document.createElement('div');\n",
       "          docLink.innerHTML = docLinkHtml;\n",
       "          element.appendChild(docLink);\n",
       "        }\n",
       "      </script>\n",
       "    </div>\n",
       "  </div>\n",
       "  "
      ],
      "text/plain": [
       "        X       Y  class\n",
       "0  0.0316  0.9870    0.0\n",
       "1  2.1200 -0.0462    1.0\n",
       "2  0.8820 -0.0758    0.0\n",
       "3 -0.0551 -0.0373    1.0\n",
       "4  0.8300 -0.5390    1.0"
      ]
     },
     "execution_count": 3,
     "metadata": {},
     "output_type": "execute_result"
    }
   ],
   "source": [
    "df.head()"
   ]
  },
  {
   "cell_type": "code",
   "execution_count": 6,
   "metadata": {
    "colab": {
     "base_uri": "https://localhost:8080/",
     "height": 265
    },
    "id": "ZuYqGD_mtuQG",
    "outputId": "81797af9-0f1a-4b14-c6cc-6825dda54fc8"
   },
   "outputs": [
    {
     "data": {
      "image/png": "[encoded data removed]",
      "text/plain": [
       "<Figure size 432x288 with 1 Axes>"
      ]
     },
     "metadata": {
      "needs_background": "light"
     },
     "output_type": "display_data"
    }
   ],
   "source": [
    "plt.scatter(X[:,0],X[:,1], c=y, s=100)\n",
    "plt.show()"
   ]
  },
  {
   "cell_type": "code",
   "execution_count": 33,
   "metadata": {
    "colab": {
     "base_uri": "https://localhost:8080/"
    },
    "id": "nwXuHnqhtwEJ",
    "outputId": "63b57de9-3a97-4ad2-8c11-09d2766bd631"
   },
   "outputs": [
    {
     "data": {
      "text/plain": [
       "array([1, 0, 0, 0, 0, 1, 1, 1, 0, 0, 1, 1, 1, 1, 0, 1, 1, 0, 1, 0, 1, 0,\n",
       "       0, 0, 1, 0, 0, 0, 0, 0, 1, 0, 1, 1, 0, 0, 0, 1, 1, 1, 0, 0, 0, 1,\n",
       "       1, 0, 1, 0, 1, 0, 1, 1, 1, 0, 1, 0, 1, 1, 1, 1, 1, 1, 0, 0, 1, 1,\n",
       "       1, 0, 1, 1, 0, 1, 0, 0, 1, 0, 0, 1, 0, 0, 0, 0, 1, 1, 1, 0, 1, 0,\n",
       "       1, 1, 0, 0, 0, 0, 0, 1, 0, 0, 1, 0, 0, 0, 1, 1, 0, 0, 0, 1, 0, 1,\n",
       "       0, 1, 1, 1, 1, 0, 0, 0, 0, 0, 1, 1, 1, 0, 0, 1, 1, 0, 0, 0, 1, 1,\n",
       "       0, 1, 1, 0, 1, 0, 0, 0, 1, 1, 1, 0, 1, 1, 1, 1, 0, 1, 0, 0, 1, 0,\n",
       "       0, 1, 0, 1, 1, 0, 0, 1, 0, 0, 1, 1, 0, 1, 1, 0, 0, 0, 1, 1, 1, 1,\n",
       "       0, 1, 0, 0, 1, 0, 1, 0, 0, 0, 1, 1, 0, 0, 0, 0, 1, 1, 0, 1, 0, 1,\n",
       "       1, 1, 1, 0, 0, 0, 0, 1, 1, 1, 1, 1, 1, 1, 1, 0, 0, 0, 0, 0, 1, 1,\n",
       "       1, 1, 1, 1, 0, 1, 1, 0, 0, 1, 1, 1, 0, 0, 0, 0, 1, 0, 1, 1, 0, 1,\n",
       "       0, 1, 0, 0, 0, 0, 1, 0])"
      ]
     },
     "execution_count": 33,
     "metadata": {},
     "output_type": "execute_result"
    }
   ],
   "source": [
    "y\n"
   ]
  },
  {
   "cell_type": "code",
   "execution_count": 7,
   "metadata": {
    "id": "ylDVIM8Ltx0H"
   },
   "outputs": [],
   "source": [
    "import tensorflow\n",
    "from tensorflow import keras\n",
    "from keras import Sequential\n",
    "from keras.layers import Dense"
   ]
  },
  {
   "cell_type": "code",
   "execution_count": 22,
   "metadata": {
    "colab": {
     "base_uri": "https://localhost:8080/"
    },
    "id": "id8rhK5OtzVX",
    "outputId": "20fa25b1-bdb1-4757-c3a0-114d1d2605a0"
   },
   "outputs": [
    {
     "name": "stdout",
     "output_type": "stream",
     "text": [
      "Model: \"sequential_6\"\n",
      "_________________________________________________________________\n",
      " Layer (type)                Output Shape              Param #   \n",
      "=================================================================\n",
      " dense_21 (Dense)            (None, 10)                30        \n",
      "                                                                 \n",
      " dense_22 (Dense)            (None, 10)                110       \n",
      "                                                                 \n",
      " dense_23 (Dense)            (None, 10)                110       \n",
      "                                                                 \n",
      " dense_24 (Dense)            (None, 10)                110       \n",
      "                                                                 \n",
      " dense_25 (Dense)            (None, 1)                 11        \n",
      "                                                                 \n",
      "=================================================================\n",
      "Total params: 371\n",
      "Trainable params: 371\n",
      "Non-trainable params: 0\n",
      "_________________________________________________________________\n"
     ]
    }
   ],
   "source": [
    "model = Sequential()\n",
    "\n",
    "model.add(Dense(10,activation='relu',input_dim=2,kernel_initializer='he_normal'))\n",
    "model.add(Dense(10,activation='relu',kernel_initializer='he_normal'))\n",
    "model.add(Dense(10,activation='relu',kernel_initializer='he_normal'))\n",
    "model.add(Dense(10,activation='relu',kernel_initializer='he_normal'))\n",
    "model.add(Dense(1,activation='sigmoid'))\n",
    "\n",
    "model.summary()"
   ]
  },
  {
   "cell_type": "code",
   "execution_count": 23,
   "metadata": {
    "colab": {
     "base_uri": "https://localhost:8080/"
    },
    "id": "YjST2L1qt1UP",
    "outputId": "17de2287-5c13-44c2-f0eb-f171ec3bd7e2"
   },
   "outputs": [
    {
     "data": {
      "text/plain": [
       "[array([[-0.16764386, -0.83370626, -0.45075715,  1.4864362 , -2.021108  ,\n",
       "         -0.5209023 , -0.5865095 , -2.0706236 ,  1.7676772 ,  0.80310094],\n",
       "        [-1.4693875 ,  0.3601716 , -0.12766176, -1.643782  ,  0.62031156,\n",
       "         -0.98200744,  0.6403434 , -0.5530379 , -1.0971104 ,  0.3209368 ]],\n",
       "       dtype=float32),\n",
       " array([0., 0., 0., 0., 0., 0., 0., 0., 0., 0.], dtype=float32),\n",
       " array([[-1.13549903e-01, -6.30471036e-02, -7.83223510e-01,\n",
       "         -6.23395741e-01, -4.43575412e-01, -9.43415105e-01,\n",
       "         -9.32545289e-02, -3.58344823e-01,  1.96296737e-01,\n",
       "         -9.83196437e-01],\n",
       "        [ 2.49951914e-01,  2.52712727e-01,  9.11310256e-01,\n",
       "         -1.40770122e-01,  1.37909040e-01, -2.28944018e-01,\n",
       "         -2.41206229e-01,  1.13434538e-01, -7.70230137e-04,\n",
       "         -4.56199273e-02],\n",
       "        [ 7.71505892e-01,  9.70364138e-02, -2.76064157e-01,\n",
       "          2.49161839e-01,  1.73321441e-01, -1.14044599e-01,\n",
       "          1.12614268e-02, -5.45438528e-01,  1.61648571e-01,\n",
       "         -7.58321285e-01],\n",
       "        [ 3.44437301e-01, -8.69075477e-01,  4.26184535e-01,\n",
       "          4.41303432e-01,  3.60983163e-01,  2.13173419e-01,\n",
       "         -5.44173121e-02, -5.98913074e-01, -3.28268498e-01,\n",
       "         -7.49237299e-01],\n",
       "        [ 5.92420280e-01, -2.84207404e-01,  6.07622266e-01,\n",
       "          1.01322460e+00,  5.68142653e-01, -9.30158608e-03,\n",
       "          6.61497533e-01, -7.42467999e-01,  4.64505370e-04,\n",
       "         -9.25708294e-01],\n",
       "        [-8.08416530e-02,  2.19540566e-01, -4.37964201e-01,\n",
       "         -8.48056376e-02, -2.47052655e-01,  1.61379129e-01,\n",
       "          3.36309403e-01,  5.99638093e-03, -4.12119925e-01,\n",
       "          5.90363085e-01],\n",
       "        [-5.26165664e-01,  3.05586576e-01,  8.21554884e-02,\n",
       "          6.58088624e-01,  4.67031091e-01, -1.57814041e-01,\n",
       "          1.74139708e-01,  3.87454271e-01, -7.78507721e-03,\n",
       "          1.12142615e-01],\n",
       "        [ 3.39533299e-01,  2.98659325e-01,  2.85844989e-02,\n",
       "         -1.01380968e+00,  2.22430438e-01,  8.12458634e-01,\n",
       "          1.29179522e-01, -2.54280776e-01,  8.69384527e-01,\n",
       "         -1.61928665e-02],\n",
       "        [-9.32330072e-01, -7.44606197e-01,  7.00766504e-01,\n",
       "         -7.82567501e-01,  7.01292038e-01, -1.90528587e-01,\n",
       "         -6.46611452e-02,  6.54655516e-01, -5.45597553e-01,\n",
       "         -1.83119938e-01],\n",
       "        [-6.61772013e-01,  7.12664127e-01, -1.08313635e-01,\n",
       "         -2.60333866e-01, -7.79793561e-01,  4.85300660e-01,\n",
       "         -6.47421479e-01,  8.58387291e-01,  2.03173861e-01,\n",
       "          8.30438375e-01]], dtype=float32),\n",
       " array([0., 0., 0., 0., 0., 0., 0., 0., 0., 0.], dtype=float32),\n",
       " array([[-0.59637344,  0.5314794 , -0.26538277, -0.21436936, -0.95925325,\n",
       "          0.02529319, -0.39908448,  0.5431202 ,  0.03162315, -0.55996454],\n",
       "        [ 0.3778647 , -0.65166026,  0.36788234,  0.08855512, -0.65941596,\n",
       "         -0.26059046, -1.0143051 , -0.24824071,  0.46299288,  0.31152508],\n",
       "        [ 0.17553583, -0.5834178 , -0.42792693,  0.05783057,  0.379011  ,\n",
       "         -0.2860821 , -0.09847581,  0.13741577,  0.00322945,  0.34803873],\n",
       "        [ 0.7051074 ,  0.34543484,  0.5661211 , -0.3003583 ,  0.26857027,\n",
       "         -0.47994223,  0.08365095, -0.83233035,  0.00587151, -0.00608945],\n",
       "        [ 0.3186872 , -0.92047954, -0.4855789 , -0.09174349, -0.05976912,\n",
       "         -0.02188692,  0.6831036 ,  0.25333977, -0.1205845 ,  0.13916573],\n",
       "        [-0.52983654,  0.28845817, -0.6333745 ,  0.7299569 , -0.12223439,\n",
       "          0.25805876,  0.70211905,  0.01390112, -0.09206118,  0.38757762],\n",
       "        [-0.72082376, -0.32116455,  0.52045053,  0.10264937, -0.3772214 ,\n",
       "         -0.15006234,  0.18350056, -0.645224  ,  0.1731058 , -0.04833545],\n",
       "        [ 0.5840208 ,  0.54788077,  0.87468076,  0.67772734,  0.06985182,\n",
       "         -0.68906397, -0.28606775, -0.38167137, -0.35148394,  0.30437776],\n",
       "        [ 0.48835945,  0.36087832, -0.03067935, -0.13610864,  0.19284314,\n",
       "          0.0759315 ,  0.4258374 , -0.9142542 , -0.20463286,  0.22763407],\n",
       "        [ 0.09251136,  0.3400933 ,  0.37588954,  0.0764825 ,  0.5380174 ,\n",
       "         -0.05349588,  0.02826306,  0.72410977,  0.23758952,  0.78950065]],\n",
       "       dtype=float32),\n",
       " array([0., 0., 0., 0., 0., 0., 0., 0., 0., 0.], dtype=float32),\n",
       " array([[-0.4148809 , -0.21003841, -0.27977565,  0.32430774,  0.23922655,\n",
       "          0.2527334 ,  0.08293227, -0.10518907,  0.14021868,  0.56306845],\n",
       "        [-0.22160487,  0.25273845, -0.31044045, -0.52856255,  0.5035498 ,\n",
       "         -0.44586712,  0.1292222 , -0.82251877, -0.2731192 ,  0.23537746],\n",
       "        [-0.33242244, -0.3015973 , -0.9719321 ,  0.35916153, -0.39670002,\n",
       "         -0.51473206, -0.36070785,  0.10158424,  0.6528067 , -0.4904508 ],\n",
       "        [ 0.40447444, -0.17489524,  0.8053651 , -0.9536708 ,  0.4672684 ,\n",
       "          0.03175265, -0.26109648,  0.5343901 , -0.6324525 , -0.32474256],\n",
       "        [ 0.37113798,  0.61315393,  0.3803539 ,  0.60145444,  0.17480466,\n",
       "         -0.47694427, -0.04377698, -0.1344805 , -0.6568602 ,  0.18906116],\n",
       "        [-0.02288537,  0.24197043, -0.47769004,  0.02666131,  0.21189809,\n",
       "          0.15054353, -0.5183539 , -0.1797181 , -0.30893525, -0.55872065],\n",
       "        [ 0.07680205, -0.5316587 ,  0.03581812, -0.03477792, -0.20810519,\n",
       "         -0.54519314,  0.6666524 , -0.39918795,  0.43787095, -0.2165585 ],\n",
       "        [ 0.82402253, -0.863097  , -0.24619813, -0.02434377,  0.08758008,\n",
       "          0.58190686, -0.91691786, -0.8869552 , -0.09705309,  0.2881063 ],\n",
       "        [ 0.5234715 , -0.5238047 , -0.80478436,  0.10019457, -0.3820208 ,\n",
       "         -0.82653743, -0.09187748, -0.47031438,  0.7197144 , -0.2519795 ],\n",
       "        [-0.6883791 ,  0.25527677,  0.09039098,  0.3205662 , -0.6185343 ,\n",
       "         -0.4668614 ,  0.42541173,  0.45618957, -0.05319118,  0.18540116]],\n",
       "       dtype=float32),\n",
       " array([0., 0., 0., 0., 0., 0., 0., 0., 0., 0.], dtype=float32),\n",
       " array([[-5.8891964e-01],\n",
       "        [-6.0468209e-01],\n",
       "        [-1.5517896e-01],\n",
       "        [-5.0365090e-01],\n",
       "        [ 1.3202339e-01],\n",
       "        [ 5.1991946e-01],\n",
       "        [ 5.9914678e-01],\n",
       "        [-1.8742216e-01],\n",
       "        [ 3.2770634e-04],\n",
       "        [ 4.8666984e-01]], dtype=float32),\n",
       " array([0.], dtype=float32)]"
      ]
     },
     "execution_count": 23,
     "metadata": {},
     "output_type": "execute_result"
    }
   ],
   "source": [
    "model.get_weights()"
   ]
  },
  {
   "cell_type": "code",
   "execution_count": 24,
   "metadata": {
    "id": "SNnRle4Dt4bc"
   },
   "outputs": [],
   "source": [
    "initial_weights = model.get_weights()"
   ]
  },
  {
   "cell_type": "code",
   "execution_count": 25,
   "metadata": {
    "id": "T6mklkSot6GI"
   },
   "outputs": [],
   "source": [
    "initial_weights[0] = np.random.randn(2,10)*np.sqrt(1/2)\n",
    "initial_weights[1] = np.zeros(model.get_weights()[1].shape)\n",
    "initial_weights[2] = np.random.randn(10,10)*np.sqrt(1/10)\n",
    "initial_weights[3] = np.zeros(model.get_weights()[3].shape)\n",
    "initial_weights[4] = np.random.randn(10,10)*np.sqrt(1/10)\n",
    "initial_weights[5] = np.zeros(model.get_weights()[5].shape)\n",
    "initial_weights[6] = np.random.randn(10,10)*np.sqrt(1/10)\n",
    "initial_weights[7] = np.zeros(model.get_weights()[7].shape)\n",
    "initial_weights[8] = np.random.randn(10,1)*np.sqrt(1/10)\n",
    "initial_weights[9] = np.zeros(model.get_weights()[9].shape)"
   ]
  },
  {
   "cell_type": "code",
   "execution_count": 26,
   "metadata": {
    "id": "cnoX9yK8ueEM"
   },
   "outputs": [],
   "source": [
    "model.set_weights(initial_weights)"
   ]
  },
  {
   "cell_type": "code",
   "execution_count": 27,
   "metadata": {
    "colab": {
     "base_uri": "https://localhost:8080/"
    },
    "id": "1guey_KUujTP",
    "outputId": "e78544ca-3705-4c63-ef4d-dc1420bc44d6"
   },
   "outputs": [
    {
     "data": {
      "text/plain": [
       "[array([[-0.24306276,  0.6287543 , -0.4262993 ,  0.87165934, -1.4765207 ,\n",
       "          0.49680728,  0.4909789 , -0.9410057 ,  0.29953125, -0.5325338 ],\n",
       "        [-0.5745697 ,  0.57074714,  1.1161993 ,  1.2092955 ,  0.14189017,\n",
       "         -0.4875984 ,  1.0495703 , -1.1585822 , -0.2884701 , -0.54235244]],\n",
       "       dtype=float32),\n",
       " array([0., 0., 0., 0., 0., 0., 0., 0., 0., 0.], dtype=float32),\n",
       " array([[ 0.34025994, -0.45511702,  0.15496539, -0.11747663, -0.578525  ,\n",
       "          0.49216166,  0.44410673,  0.6242106 ,  0.03644711,  0.30497015],\n",
       "        [ 0.52995914,  0.15934137,  0.4299251 , -0.5591002 ,  0.04528407,\n",
       "         -0.18773898, -0.7045503 ,  0.16108811,  0.13665551,  0.1427637 ],\n",
       "        [ 0.15477996, -0.1844083 ,  0.11250985, -0.18840337, -0.03600577,\n",
       "         -0.04943532,  0.09606795, -0.06770887,  0.3282866 ,  0.07120566],\n",
       "        [-0.355049  , -0.05189116,  0.4909395 , -0.25997797, -0.04152828,\n",
       "          0.23442557,  0.08715883,  0.6777161 , -0.46903747,  0.10916487],\n",
       "        [ 0.14507923,  0.3596714 ,  0.26930186, -0.03045073, -0.4931185 ,\n",
       "         -0.2629495 ,  0.02708931, -0.04538016, -0.06360511, -0.1792995 ],\n",
       "        [-0.22126304,  0.09781457, -0.04986621,  0.13362204,  0.1901707 ,\n",
       "          0.03846243, -0.5749421 ,  0.29732075, -0.08871636,  0.5547209 ],\n",
       "        [ 0.41502914, -0.09059888, -0.07973991,  0.278142  , -0.01092131,\n",
       "          0.127183  ,  0.34176743,  0.12103841,  0.33003306, -0.00479564],\n",
       "        [-0.5656616 , -0.22021678,  0.21562015,  0.61436415,  0.10270078,\n",
       "          0.6878399 ,  0.45491514, -0.41732112,  0.48690563, -0.44286036],\n",
       "        [ 0.3999947 , -0.35139307,  0.44947273, -0.10803256, -0.4455368 ,\n",
       "         -0.09371514,  0.24041508, -0.07151449,  0.17642479,  0.00772374],\n",
       "        [-0.12489563,  0.00860654, -0.09400076, -0.03767573,  0.35782233,\n",
       "          0.23862535,  0.19223195,  0.02419976,  0.8789914 ,  0.22303906]],\n",
       "       dtype=float32),\n",
       " array([0., 0., 0., 0., 0., 0., 0., 0., 0., 0.], dtype=float32),\n",
       " array([[-0.32798377,  0.00465257, -0.29912925,  0.5094294 , -0.25493154,\n",
       "         -0.30765978, -0.07337502,  0.11837068, -0.55318314, -0.07695602],\n",
       "        [-0.54187495, -0.82722336,  0.12575859,  0.06319512,  0.04498354,\n",
       "         -0.17369798,  0.05702495, -0.00965143,  0.35343236, -0.6367963 ],\n",
       "        [ 0.34895608,  0.2957628 ,  0.17868514,  0.3428696 ,  0.13697828,\n",
       "          0.23565629,  0.4568892 , -0.40612268, -0.01569147, -0.07674258],\n",
       "        [ 0.316433  ,  0.5493824 , -0.05008791, -0.43975872,  0.28578573,\n",
       "          0.610498  ,  0.10209893, -0.06829009, -0.42222142, -0.19453612],\n",
       "        [-0.16608377, -0.20370772, -0.5460459 ,  0.03870883, -0.2030268 ,\n",
       "         -0.14524232,  0.07644401, -0.03879081, -0.02431068, -0.10366968],\n",
       "        [-0.04251114, -0.2512275 , -0.3650432 ,  0.57665944,  0.41999596,\n",
       "         -0.2662181 ,  0.00190249,  0.20103532, -0.6860236 ,  0.3016593 ],\n",
       "        [ 0.06709476, -0.01095518, -0.19576246,  0.04071774,  0.65427953,\n",
       "         -0.3056386 , -0.06783024,  0.1630626 , -0.13237226,  0.25974673],\n",
       "        [ 0.32544366,  0.06330804,  0.27186483, -0.12416787, -0.10215656,\n",
       "         -0.01427957,  0.30105907, -0.11289218,  0.3493962 , -0.3118616 ],\n",
       "        [ 0.42797348, -0.06207654, -0.03930787, -0.07940492,  0.28401423,\n",
       "          0.48000416,  0.07326427,  0.4864536 , -0.3313702 ,  0.24280098],\n",
       "        [-0.7171097 ,  0.06494071, -0.10135022, -0.2239955 ,  0.43773142,\n",
       "         -0.03564895, -0.01765934,  0.442588  ,  0.40086493, -0.03841157]],\n",
       "       dtype=float32),\n",
       " array([0., 0., 0., 0., 0., 0., 0., 0., 0., 0.], dtype=float32),\n",
       " array([[ 0.16850504, -0.09703159,  0.07989354,  0.26715344, -0.40746605,\n",
       "         -0.5435168 ,  0.34125882, -0.3402868 ,  0.1442582 ,  0.4493829 ],\n",
       "        [-0.45389163, -0.4270201 ,  0.08667673,  0.25473428, -0.03463493,\n",
       "         -0.19052705,  0.35501122, -0.2863143 ,  0.30530554,  0.13638677],\n",
       "        [-0.59140915,  0.37029198, -0.15692385,  0.25938883, -0.48094586,\n",
       "          0.26916662, -0.30865037, -0.06862426, -0.7519361 , -0.70751226],\n",
       "        [-0.00307708, -0.03921811, -0.1091268 ,  0.27052262, -0.00765597,\n",
       "          0.0850747 , -0.74370545,  0.04570694, -0.41452092,  0.18294704],\n",
       "        [-0.20428759,  0.09459063, -0.15036246,  0.06927501, -0.16957302,\n",
       "          0.11908865, -0.17666724, -0.4659081 ,  0.12415402, -0.22666411],\n",
       "        [ 0.24860385, -0.14710534, -0.02947379,  0.03489212, -0.07436341,\n",
       "          0.13363013, -0.4404121 ,  0.5399131 ,  0.2359525 ,  0.42220208],\n",
       "        [ 0.2597135 ,  0.20539244, -0.29126912,  0.14290577, -0.1003151 ,\n",
       "          0.7054518 , -0.5591415 ,  0.15472478, -0.1392923 , -0.6562711 ],\n",
       "        [ 0.31730834, -0.5208477 ,  0.08346439, -0.23558715, -0.30427077,\n",
       "         -0.6520601 , -0.2747127 , -0.09776357, -0.23704167,  0.2617028 ],\n",
       "        [ 0.5951692 ,  0.1349772 ,  0.2814653 ,  0.21571209,  0.22002941,\n",
       "          0.05442614,  0.39810282, -0.9221382 , -0.20505568, -0.23966709],\n",
       "        [-0.2593235 , -0.01318485,  0.08820087, -0.03490585, -0.13302527,\n",
       "          0.17181598,  0.15705705, -0.30026984, -0.08944775,  0.13268462]],\n",
       "       dtype=float32),\n",
       " array([0., 0., 0., 0., 0., 0., 0., 0., 0., 0.], dtype=float32),\n",
       " array([[-0.275393  ],\n",
       "        [-0.45711064],\n",
       "        [ 0.16513018],\n",
       "        [-0.25143665],\n",
       "        [-0.41047117],\n",
       "        [-0.13831654],\n",
       "        [ 0.5367004 ],\n",
       "        [-0.18828298],\n",
       "        [-0.09630249],\n",
       "        [-0.10410994]], dtype=float32),\n",
       " array([0.], dtype=float32)]"
      ]
     },
     "execution_count": 27,
     "metadata": {},
     "output_type": "execute_result"
    }
   ],
   "source": [
    "model.get_weights()"
   ]
  },
  {
   "cell_type": "code",
   "execution_count": 28,
   "metadata": {
    "id": "bjAyhD8mulGG"
   },
   "outputs": [],
   "source": [
    "model.compile(loss='binary_crossentropy',optimizer='adam',metrics=['accuracy'])"
   ]
  },
  {
   "cell_type": "code",
   "execution_count": 29,
   "metadata": {
    "colab": {
     "base_uri": "https://localhost:8080/"
    },
    "id": "H1wa0jCaun8z",
    "outputId": "882484ee-b362-44be-bb3a-929605fb5fad"
   },
   "outputs": [
    {
     "name": "stdout",
     "output_type": "stream",
     "text": [
      "Epoch 1/100\n",
      "7/7 [==============================] - 6s 35ms/step - loss: 0.6976 - accuracy: 0.5050 - val_loss: 0.7064 - val_accuracy: 0.4800\n",
      "Epoch 2/100\n",
      "7/7 [==============================] - 0s 8ms/step - loss: 0.6896 - accuracy: 0.5050 - val_loss: 0.6975 - val_accuracy: 0.4800\n",
      "Epoch 3/100\n",
      "7/7 [==============================] - 0s 10ms/step - loss: 0.6834 - accuracy: 0.5100 - val_loss: 0.6887 - val_accuracy: 0.5000\n",
      "Epoch 4/100\n",
      "7/7 [==============================] - 0s 8ms/step - loss: 0.6771 - accuracy: 0.5100 - val_loss: 0.6792 - val_accuracy: 0.4800\n",
      "Epoch 5/100\n",
      "7/7 [==============================] - 0s 9ms/step - loss: 0.6699 - accuracy: 0.5050 - val_loss: 0.6701 - val_accuracy: 0.4800\n",
      "Epoch 6/100\n",
      "7/7 [==============================] - 0s 8ms/step - loss: 0.6613 - accuracy: 0.5050 - val_loss: 0.6600 - val_accuracy: 0.4800\n",
      "Epoch 7/100\n",
      "7/7 [==============================] - 0s 8ms/step - loss: 0.6519 - accuracy: 0.5050 - val_loss: 0.6501 - val_accuracy: 0.4800\n",
      "Epoch 8/100\n",
      "7/7 [==============================] - 0s 10ms/step - loss: 0.6427 - accuracy: 0.5050 - val_loss: 0.6390 - val_accuracy: 0.4800\n",
      "Epoch 9/100\n",
      "7/7 [==============================] - 0s 10ms/step - loss: 0.6320 - accuracy: 0.5050 - val_loss: 0.6267 - val_accuracy: 0.5200\n",
      "Epoch 10/100\n",
      "7/7 [==============================] - 0s 9ms/step - loss: 0.6203 - accuracy: 0.6150 - val_loss: 0.6134 - val_accuracy: 0.6400\n",
      "Epoch 11/100\n",
      "7/7 [==============================] - 0s 8ms/step - loss: 0.6080 - accuracy: 0.6650 - val_loss: 0.5995 - val_accuracy: 0.6600\n",
      "Epoch 12/100\n",
      "7/7 [==============================] - 0s 8ms/step - loss: 0.5953 - accuracy: 0.6750 - val_loss: 0.5851 - val_accuracy: 0.6800\n",
      "Epoch 13/100\n",
      "7/7 [==============================] - 0s 8ms/step - loss: 0.5814 - accuracy: 0.6950 - val_loss: 0.5691 - val_accuracy: 0.6800\n",
      "Epoch 14/100\n",
      "7/7 [==============================] - 0s 9ms/step - loss: 0.5670 - accuracy: 0.7000 - val_loss: 0.5520 - val_accuracy: 0.7200\n",
      "Epoch 15/100\n",
      "7/7 [==============================] - 0s 8ms/step - loss: 0.5525 - accuracy: 0.7150 - val_loss: 0.5355 - val_accuracy: 0.8000\n",
      "Epoch 16/100\n",
      "7/7 [==============================] - 0s 8ms/step - loss: 0.5382 - accuracy: 0.7450 - val_loss: 0.5185 - val_accuracy: 0.8000\n",
      "Epoch 17/100\n",
      "7/7 [==============================] - 0s 8ms/step - loss: 0.5233 - accuracy: 0.7550 - val_loss: 0.5017 - val_accuracy: 0.8000\n",
      "Epoch 18/100\n",
      "7/7 [==============================] - 0s 8ms/step - loss: 0.5084 - accuracy: 0.7750 - val_loss: 0.4861 - val_accuracy: 0.8200\n",
      "Epoch 19/100\n",
      "7/7 [==============================] - 0s 10ms/step - loss: 0.4954 - accuracy: 0.7850 - val_loss: 0.4711 - val_accuracy: 0.8400\n",
      "Epoch 20/100\n",
      "7/7 [==============================] - 0s 11ms/step - loss: 0.4801 - accuracy: 0.7950 - val_loss: 0.4525 - val_accuracy: 0.8400\n",
      "Epoch 21/100\n",
      "7/7 [==============================] - 0s 8ms/step - loss: 0.4646 - accuracy: 0.8200 - val_loss: 0.4322 - val_accuracy: 0.8400\n",
      "Epoch 22/100\n",
      "7/7 [==============================] - 0s 11ms/step - loss: 0.4472 - accuracy: 0.8400 - val_loss: 0.4110 - val_accuracy: 0.8600\n",
      "Epoch 23/100\n",
      "7/7 [==============================] - 0s 8ms/step - loss: 0.4293 - accuracy: 0.8400 - val_loss: 0.3895 - val_accuracy: 0.8800\n",
      "Epoch 24/100\n",
      "7/7 [==============================] - 0s 8ms/step - loss: 0.4099 - accuracy: 0.8500 - val_loss: 0.3612 - val_accuracy: 0.9000\n",
      "Epoch 25/100\n",
      "7/7 [==============================] - 0s 8ms/step - loss: 0.3900 - accuracy: 0.8700 - val_loss: 0.3362 - val_accuracy: 0.9200\n",
      "Epoch 26/100\n",
      "7/7 [==============================] - 0s 11ms/step - loss: 0.3724 - accuracy: 0.8750 - val_loss: 0.3144 - val_accuracy: 0.9400\n",
      "Epoch 27/100\n",
      "7/7 [==============================] - 0s 8ms/step - loss: 0.3560 - accuracy: 0.8650 - val_loss: 0.2958 - val_accuracy: 0.9400\n",
      "Epoch 28/100\n",
      "7/7 [==============================] - 0s 11ms/step - loss: 0.3402 - accuracy: 0.8650 - val_loss: 0.2806 - val_accuracy: 0.9400\n",
      "Epoch 29/100\n",
      "7/7 [==============================] - 0s 10ms/step - loss: 0.3276 - accuracy: 0.8650 - val_loss: 0.2654 - val_accuracy: 0.9400\n",
      "Epoch 30/100\n",
      "7/7 [==============================] - 0s 11ms/step - loss: 0.3145 - accuracy: 0.8650 - val_loss: 0.2550 - val_accuracy: 0.9400\n",
      "Epoch 31/100\n",
      "7/7 [==============================] - 0s 8ms/step - loss: 0.3034 - accuracy: 0.8700 - val_loss: 0.2432 - val_accuracy: 0.9400\n",
      "Epoch 32/100\n",
      "7/7 [==============================] - 0s 10ms/step - loss: 0.2927 - accuracy: 0.8750 - val_loss: 0.2303 - val_accuracy: 0.9400\n",
      "Epoch 33/100\n",
      "7/7 [==============================] - 0s 8ms/step - loss: 0.2820 - accuracy: 0.8750 - val_loss: 0.2224 - val_accuracy: 0.9400\n",
      "Epoch 34/100\n",
      "7/7 [==============================] - 0s 8ms/step - loss: 0.2736 - accuracy: 0.8800 - val_loss: 0.2149 - val_accuracy: 0.9400\n",
      "Epoch 35/100\n",
      "7/7 [==============================] - 0s 9ms/step - loss: 0.2646 - accuracy: 0.8800 - val_loss: 0.2079 - val_accuracy: 0.9200\n",
      "Epoch 36/100\n",
      "7/7 [==============================] - 0s 9ms/step - loss: 0.2564 - accuracy: 0.8800 - val_loss: 0.1993 - val_accuracy: 0.9200\n",
      "Epoch 37/100\n",
      "7/7 [==============================] - 0s 8ms/step - loss: 0.2482 - accuracy: 0.8800 - val_loss: 0.1901 - val_accuracy: 0.9400\n",
      "Epoch 38/100\n",
      "7/7 [==============================] - 0s 8ms/step - loss: 0.2439 - accuracy: 0.8850 - val_loss: 0.1813 - val_accuracy: 0.9400\n",
      "Epoch 39/100\n",
      "7/7 [==============================] - 0s 8ms/step - loss: 0.2355 - accuracy: 0.8850 - val_loss: 0.1775 - val_accuracy: 0.9200\n",
      "Epoch 40/100\n",
      "7/7 [==============================] - 0s 8ms/step - loss: 0.2287 - accuracy: 0.8850 - val_loss: 0.1747 - val_accuracy: 0.9200\n",
      "Epoch 41/100\n",
      "7/7 [==============================] - 0s 8ms/step - loss: 0.2233 - accuracy: 0.8900 - val_loss: 0.1707 - val_accuracy: 0.9200\n",
      "Epoch 42/100\n",
      "7/7 [==============================] - 0s 10ms/step - loss: 0.2193 - accuracy: 0.9000 - val_loss: 0.1660 - val_accuracy: 0.9200\n",
      "Epoch 43/100\n",
      "7/7 [==============================] - 0s 8ms/step - loss: 0.2139 - accuracy: 0.9000 - val_loss: 0.1657 - val_accuracy: 0.9200\n",
      "Epoch 44/100\n",
      "7/7 [==============================] - 0s 11ms/step - loss: 0.2097 - accuracy: 0.9100 - val_loss: 0.1696 - val_accuracy: 0.9000\n",
      "Epoch 45/100\n",
      "7/7 [==============================] - 0s 9ms/step - loss: 0.2074 - accuracy: 0.9050 - val_loss: 0.1643 - val_accuracy: 0.9200\n",
      "Epoch 46/100\n",
      "7/7 [==============================] - 0s 11ms/step - loss: 0.2025 - accuracy: 0.9050 - val_loss: 0.1635 - val_accuracy: 0.9200\n",
      "Epoch 47/100\n",
      "7/7 [==============================] - 0s 10ms/step - loss: 0.1988 - accuracy: 0.9050 - val_loss: 0.1569 - val_accuracy: 0.9400\n",
      "Epoch 48/100\n",
      "7/7 [==============================] - 0s 10ms/step - loss: 0.1946 - accuracy: 0.9200 - val_loss: 0.1485 - val_accuracy: 0.9400\n",
      "Epoch 49/100\n",
      "7/7 [==============================] - 0s 8ms/step - loss: 0.1920 - accuracy: 0.9150 - val_loss: 0.1473 - val_accuracy: 0.9400\n",
      "Epoch 50/100\n",
      "7/7 [==============================] - 0s 10ms/step - loss: 0.1866 - accuracy: 0.9150 - val_loss: 0.1563 - val_accuracy: 0.9200\n",
      "Epoch 51/100\n",
      "7/7 [==============================] - 0s 9ms/step - loss: 0.1864 - accuracy: 0.9150 - val_loss: 0.1583 - val_accuracy: 0.9200\n",
      "Epoch 52/100\n",
      "7/7 [==============================] - 0s 11ms/step - loss: 0.1807 - accuracy: 0.9100 - val_loss: 0.1386 - val_accuracy: 0.9400\n",
      "Epoch 53/100\n",
      "7/7 [==============================] - 0s 8ms/step - loss: 0.1782 - accuracy: 0.9200 - val_loss: 0.1331 - val_accuracy: 0.9600\n",
      "Epoch 54/100\n",
      "7/7 [==============================] - 0s 11ms/step - loss: 0.1758 - accuracy: 0.9150 - val_loss: 0.1349 - val_accuracy: 0.9400\n",
      "Epoch 55/100\n",
      "7/7 [==============================] - 0s 11ms/step - loss: 0.1709 - accuracy: 0.9200 - val_loss: 0.1293 - val_accuracy: 0.9600\n",
      "Epoch 56/100\n",
      "7/7 [==============================] - 0s 9ms/step - loss: 0.1683 - accuracy: 0.9250 - val_loss: 0.1274 - val_accuracy: 0.9600\n",
      "Epoch 57/100\n",
      "7/7 [==============================] - 0s 8ms/step - loss: 0.1648 - accuracy: 0.9250 - val_loss: 0.1459 - val_accuracy: 0.9200\n",
      "Epoch 58/100\n",
      "7/7 [==============================] - 0s 11ms/step - loss: 0.1619 - accuracy: 0.9250 - val_loss: 0.1409 - val_accuracy: 0.9200\n",
      "Epoch 59/100\n",
      "7/7 [==============================] - 0s 8ms/step - loss: 0.1576 - accuracy: 0.9250 - val_loss: 0.1273 - val_accuracy: 0.9400\n",
      "Epoch 60/100\n",
      "7/7 [==============================] - 0s 10ms/step - loss: 0.1531 - accuracy: 0.9300 - val_loss: 0.1207 - val_accuracy: 0.9600\n",
      "Epoch 61/100\n",
      "7/7 [==============================] - 0s 9ms/step - loss: 0.1523 - accuracy: 0.9300 - val_loss: 0.1265 - val_accuracy: 0.9600\n",
      "Epoch 62/100\n",
      "7/7 [==============================] - 0s 9ms/step - loss: 0.1462 - accuracy: 0.9400 - val_loss: 0.1125 - val_accuracy: 0.9600\n",
      "Epoch 63/100\n",
      "7/7 [==============================] - 0s 11ms/step - loss: 0.1422 - accuracy: 0.9350 - val_loss: 0.1109 - val_accuracy: 0.9600\n",
      "Epoch 64/100\n",
      "7/7 [==============================] - 0s 11ms/step - loss: 0.1385 - accuracy: 0.9400 - val_loss: 0.1120 - val_accuracy: 0.9600\n",
      "Epoch 65/100\n",
      "7/7 [==============================] - 0s 11ms/step - loss: 0.1347 - accuracy: 0.9400 - val_loss: 0.1090 - val_accuracy: 0.9600\n",
      "Epoch 66/100\n",
      "7/7 [==============================] - 0s 8ms/step - loss: 0.1316 - accuracy: 0.9450 - val_loss: 0.1047 - val_accuracy: 0.9600\n",
      "Epoch 67/100\n",
      "7/7 [==============================] - 0s 9ms/step - loss: 0.1273 - accuracy: 0.9500 - val_loss: 0.1049 - val_accuracy: 0.9600\n",
      "Epoch 68/100\n",
      "7/7 [==============================] - 0s 9ms/step - loss: 0.1241 - accuracy: 0.9500 - val_loss: 0.1067 - val_accuracy: 0.9600\n",
      "Epoch 69/100\n",
      "7/7 [==============================] - 0s 9ms/step - loss: 0.1211 - accuracy: 0.9500 - val_loss: 0.1004 - val_accuracy: 0.9600\n",
      "Epoch 70/100\n",
      "7/7 [==============================] - 0s 11ms/step - loss: 0.1168 - accuracy: 0.9550 - val_loss: 0.0955 - val_accuracy: 0.9600\n",
      "Epoch 71/100\n",
      "7/7 [==============================] - 0s 11ms/step - loss: 0.1126 - accuracy: 0.9550 - val_loss: 0.0941 - val_accuracy: 0.9600\n",
      "Epoch 72/100\n",
      "7/7 [==============================] - 0s 12ms/step - loss: 0.1089 - accuracy: 0.9650 - val_loss: 0.0895 - val_accuracy: 0.9600\n",
      "Epoch 73/100\n",
      "7/7 [==============================] - 0s 11ms/step - loss: 0.1061 - accuracy: 0.9600 - val_loss: 0.0795 - val_accuracy: 0.9800\n",
      "Epoch 74/100\n",
      "7/7 [==============================] - 0s 8ms/step - loss: 0.1031 - accuracy: 0.9600 - val_loss: 0.0787 - val_accuracy: 0.9800\n",
      "Epoch 75/100\n",
      "7/7 [==============================] - 0s 11ms/step - loss: 0.0986 - accuracy: 0.9750 - val_loss: 0.0776 - val_accuracy: 0.9800\n",
      "Epoch 76/100\n",
      "7/7 [==============================] - 0s 8ms/step - loss: 0.0954 - accuracy: 0.9750 - val_loss: 0.0767 - val_accuracy: 0.9800\n",
      "Epoch 77/100\n",
      "7/7 [==============================] - 0s 11ms/step - loss: 0.0914 - accuracy: 0.9750 - val_loss: 0.0734 - val_accuracy: 0.9800\n",
      "Epoch 78/100\n",
      "7/7 [==============================] - 0s 9ms/step - loss: 0.0880 - accuracy: 0.9750 - val_loss: 0.0787 - val_accuracy: 0.9600\n",
      "Epoch 79/100\n",
      "7/7 [==============================] - 0s 9ms/step - loss: 0.0832 - accuracy: 0.9850 - val_loss: 0.0673 - val_accuracy: 0.9800\n",
      "Epoch 80/100\n",
      "7/7 [==============================] - 0s 11ms/step - loss: 0.0804 - accuracy: 0.9850 - val_loss: 0.0640 - val_accuracy: 0.9800\n",
      "Epoch 81/100\n",
      "7/7 [==============================] - 0s 9ms/step - loss: 0.0772 - accuracy: 0.9850 - val_loss: 0.0612 - val_accuracy: 0.9800\n",
      "Epoch 82/100\n",
      "7/7 [==============================] - 0s 12ms/step - loss: 0.0742 - accuracy: 0.9850 - val_loss: 0.0564 - val_accuracy: 0.9800\n",
      "Epoch 83/100\n",
      "7/7 [==============================] - 0s 12ms/step - loss: 0.0708 - accuracy: 0.9850 - val_loss: 0.0556 - val_accuracy: 1.0000\n",
      "Epoch 84/100\n",
      "7/7 [==============================] - 0s 11ms/step - loss: 0.0685 - accuracy: 0.9900 - val_loss: 0.0556 - val_accuracy: 1.0000\n",
      "Epoch 85/100\n",
      "7/7 [==============================] - 0s 9ms/step - loss: 0.0654 - accuracy: 0.9900 - val_loss: 0.0509 - val_accuracy: 1.0000\n",
      "Epoch 86/100\n",
      "7/7 [==============================] - 0s 10ms/step - loss: 0.0626 - accuracy: 0.9900 - val_loss: 0.0490 - val_accuracy: 1.0000\n",
      "Epoch 87/100\n",
      "7/7 [==============================] - 0s 11ms/step - loss: 0.0604 - accuracy: 0.9900 - val_loss: 0.0489 - val_accuracy: 1.0000\n",
      "Epoch 88/100\n",
      "7/7 [==============================] - 0s 10ms/step - loss: 0.0580 - accuracy: 0.9900 - val_loss: 0.0478 - val_accuracy: 1.0000\n",
      "Epoch 89/100\n",
      "7/7 [==============================] - 0s 10ms/step - loss: 0.0557 - accuracy: 0.9900 - val_loss: 0.0449 - val_accuracy: 1.0000\n",
      "Epoch 90/100\n",
      "7/7 [==============================] - 0s 11ms/step - loss: 0.0530 - accuracy: 0.9900 - val_loss: 0.0407 - val_accuracy: 1.0000\n",
      "Epoch 91/100\n",
      "7/7 [==============================] - 0s 11ms/step - loss: 0.0512 - accuracy: 0.9900 - val_loss: 0.0401 - val_accuracy: 1.0000\n",
      "Epoch 92/100\n",
      "7/7 [==============================] - 0s 11ms/step - loss: 0.0486 - accuracy: 0.9900 - val_loss: 0.0365 - val_accuracy: 1.0000\n",
      "Epoch 93/100\n",
      "7/7 [==============================] - 0s 9ms/step - loss: 0.0470 - accuracy: 0.9900 - val_loss: 0.0341 - val_accuracy: 1.0000\n",
      "Epoch 94/100\n",
      "7/7 [==============================] - 0s 12ms/step - loss: 0.0450 - accuracy: 0.9950 - val_loss: 0.0339 - val_accuracy: 1.0000\n",
      "Epoch 95/100\n",
      "7/7 [==============================] - 0s 9ms/step - loss: 0.0430 - accuracy: 0.9950 - val_loss: 0.0333 - val_accuracy: 1.0000\n",
      "Epoch 96/100\n",
      "7/7 [==============================] - 0s 8ms/step - loss: 0.0411 - accuracy: 0.9950 - val_loss: 0.0310 - val_accuracy: 1.0000\n",
      "Epoch 97/100\n",
      "7/7 [==============================] - 0s 11ms/step - loss: 0.0397 - accuracy: 1.0000 - val_loss: 0.0301 - val_accuracy: 1.0000\n",
      "Epoch 98/100\n",
      "7/7 [==============================] - 0s 10ms/step - loss: 0.0380 - accuracy: 1.0000 - val_loss: 0.0287 - val_accuracy: 1.0000\n",
      "Epoch 99/100\n",
      "7/7 [==============================] - 0s 10ms/step - loss: 0.0366 - accuracy: 1.0000 - val_loss: 0.0292 - val_accuracy: 1.0000\n",
      "Epoch 100/100\n",
      "7/7 [==============================] - 0s 8ms/step - loss: 0.0351 - accuracy: 1.0000 - val_loss: 0.0278 - val_accuracy: 1.0000\n"
     ]
    }
   ],
   "source": [
    "history = model.fit(X,y,epochs=100,validation_split=0.2)"
   ]
  },
  {
   "cell_type": "code",
   "execution_count": 30,
   "metadata": {
    "colab": {
     "base_uri": "https://localhost:8080/"
    },
    "id": "8K2E1Z5Oupj_",
    "outputId": "fb119266-270b-415a-c8aa-079aeedb4ecf"
   },
   "outputs": [
    {
     "data": {
      "text/plain": [
       "[array([[-0.29333556,  0.6608166 , -0.16256498,  1.0909973 , -1.8440387 ,\n",
       "          0.61459786,  0.51609915, -1.179392  ,  0.31765753, -0.81141114],\n",
       "        [-0.9281209 ,  0.633155  ,  1.3334756 ,  1.2189698 ,  0.24194089,\n",
       "         -0.8768419 ,  1.2039618 , -0.9285855 , -0.12501027, -0.24887244]],\n",
       "       dtype=float32),\n",
       " array([ 0.34945586,  0.19689205,  0.27625582, -0.3461673 , -0.21096872,\n",
       "        -0.13338049,  0.10747011,  0.04793106, -0.29708496,  0.00053967],\n",
       "       dtype=float32),\n",
       " array([[ 0.06106763, -0.5079378 , -0.09246754, -0.12594943, -0.10802095,\n",
       "          0.06125788,  0.32230574,  1.153196  , -0.2764279 ,  1.047212  ],\n",
       "        [ 0.4212926 ,  0.13835871,  0.53559697, -0.65462905,  0.02249618,\n",
       "         -0.18569107, -0.7643656 ,  0.34806603,  0.35040823,  0.09101963],\n",
       "        [ 0.339912  , -0.233912  ,  0.16947182,  0.05645558,  0.37954593,\n",
       "          0.02159606, -0.01106195, -0.10888331,  0.44134253,  0.08658105],\n",
       "        [-0.5792719 , -0.06433456,  0.72328776,  0.04992926, -0.18860048,\n",
       "          0.21910514,  0.02722205,  0.9529304 , -0.23929437, -0.00667709],\n",
       "        [-0.09374762,  0.2957721 ,  0.53924674,  0.30040973, -0.7358889 ,\n",
       "         -0.03301989, -0.08783838,  0.21836369,  0.18529883, -0.34113178],\n",
       "        [-0.41648313,  0.08460986, -0.10211671, -0.03666571,  0.08936173,\n",
       "         -0.10453305, -0.5749421 ,  0.56187123, -0.15401284,  0.8223345 ],\n",
       "        [ 0.2970596 , -0.1094944 ,  0.11717048,  0.48329392, -0.01744324,\n",
       "          0.16130032,  0.26033106,  0.30543348,  0.5664087 , -0.12584497],\n",
       "        [-0.71955407, -0.2892754 ,  0.43113363,  0.8210126 ,  0.00243366,\n",
       "          0.67093676,  0.32510388, -0.12255926,  0.68730813, -0.38559392],\n",
       "        [ 0.1283515 , -0.36456203,  0.14951986, -0.2224588 , -0.8623422 ,\n",
       "         -0.48750034,  0.24041508,  0.14409856, -0.26254177,  0.5274404 ],\n",
       "        [-0.28520852, -0.06646457,  0.16909991,  0.22481127,  0.23139374,\n",
       "          0.33905587,  0.04615725,  0.330523  ,  1.1142887 ,  0.29475266]],\n",
       "       dtype=float32),\n",
       " array([ 0.22932585, -0.05473749, -0.10916049, -0.07977465,  0.43928558,\n",
       "         0.0412422 , -0.10653823,  0.01105996,  0.10560787,  0.21774058],\n",
       "       dtype=float32),\n",
       " array([[-0.3265005 ,  0.28061408, -0.47074178,  0.3671909 , -0.52930754,\n",
       "         -0.36052132, -0.21782504,  0.44917744, -0.8302219 , -0.10514662],\n",
       "        [-0.48260963, -0.86164916,  0.09336171,  0.1132745 , -0.00590365,\n",
       "         -0.11712148,  0.09375495, -0.00515134,  0.35582155, -0.67502105],\n",
       "        [ 0.5990784 ,  0.28243223,  0.30781013,  0.4166523 ,  0.17892036,\n",
       "          0.5065176 ,  0.5213359 , -0.27426827, -0.04632545, -0.15911567],\n",
       "        [ 0.5775623 ,  0.03082175, -0.07715601,  0.07845415,  0.00632268,\n",
       "          0.9967155 ,  0.6647506 , -0.09109878, -0.28003463, -0.28488848],\n",
       "        [-0.08676783,  0.31697115, -1.2265948 , -0.18942223, -0.7790095 ,\n",
       "         -0.21733965, -0.02772607,  0.18272355, -0.2938555 , -0.10366968],\n",
       "        [ 0.13520044, -0.31610864, -0.2905949 ,  0.6484457 ,  0.42923906,\n",
       "         -0.05409142,  0.09124059,  0.2817246 , -0.79681134,  0.22734138],\n",
       "        [ 0.18611519, -0.07511195, -0.22133723,  0.15309733,  0.5450005 ,\n",
       "         -0.17315342,  0.00677326,  0.23237239, -0.12444809,  0.19436795],\n",
       "        [ 0.5346118 ,  0.21519595,  0.41650653, -0.16633797,  0.01688729,\n",
       "          0.18535888,  0.30922619,  0.14478293,  0.433996  , -0.2966201 ],\n",
       "        [ 0.6164991 , -0.11129253, -0.20867947,  0.01329065,  0.03745538,\n",
       "          0.6577695 ,  0.2577456 ,  0.6750202 , -0.7074472 ,  0.15829115],\n",
       "        [-0.7515328 ,  0.4542243 ,  0.01239687, -0.53854525,  0.61070013,\n",
       "         -0.18372445, -0.19640008,  0.7476805 ,  0.6175894 , -0.01999001]],\n",
       "       dtype=float32),\n",
       " array([ 0.08804451,  0.35560212, -0.20022535, -0.2588159 , -0.17676431,\n",
       "        -0.06379969, -0.13503295,  0.17862684, -0.00260545, -0.07110152],\n",
       "       dtype=float32),\n",
       " array([[ 4.42786783e-01, -8.52784067e-02, -1.16373226e-01,\n",
       "          5.18925190e-01, -4.07466054e-01, -3.43717098e-01,\n",
       "          3.29810053e-01, -5.13067320e-02,  4.46310014e-01,\n",
       "          7.37472415e-01],\n",
       "        [-4.37163442e-01, -4.53112066e-01,  5.05813301e-01,\n",
       "          1.98954001e-01, -5.80972582e-02, -2.82801807e-01,\n",
       "          7.17013597e-01, -5.53798266e-02,  4.17369455e-01,\n",
       "          2.48709202e-01],\n",
       "        [-1.15197384e+00,  3.46272588e-01,  5.42157471e-01,\n",
       "         -2.71962792e-01, -4.80945855e-01,  9.90259694e-04,\n",
       "          3.61092895e-01, -4.93554980e-01, -1.40589035e+00,\n",
       "         -1.30398738e+00],\n",
       "        [ 1.67758659e-01, -4.37090956e-02, -2.20113888e-01,\n",
       "          4.23542053e-01, -7.65597168e-03,  2.41277710e-01,\n",
       "         -8.00492942e-01,  2.92906076e-01, -1.57526046e-01,\n",
       "          4.15601164e-01],\n",
       "        [-4.45314497e-01,  6.76773638e-02,  4.43336397e-01,\n",
       "         -1.51360542e-01, -1.90585479e-01, -2.10239124e-02,\n",
       "          4.05276477e-01, -6.74760938e-01, -1.10268958e-01,\n",
       "         -4.20029789e-01],\n",
       "        [ 5.28058290e-01, -1.71436056e-01, -1.99885026e-01,\n",
       "          2.94250727e-01, -7.43634105e-02,  3.86872172e-01,\n",
       "         -3.74065638e-01,  8.20790291e-01,  5.36253870e-01,\n",
       "          7.13461161e-01],\n",
       "        [ 4.48013335e-01,  1.83353245e-01, -4.24160570e-01,\n",
       "          2.81663418e-01, -1.00315101e-01,  7.34729409e-01,\n",
       "         -5.43545723e-01,  4.93533969e-01,  1.75529152e-01,\n",
       "         -3.64730239e-01],\n",
       "        [ 2.91929334e-01, -5.29577613e-01,  5.98824203e-01,\n",
       "         -2.31318533e-01, -3.27524990e-01, -5.64837813e-01,\n",
       "          1.92794278e-01,  3.04787066e-02, -2.08080828e-01,\n",
       "          2.02471390e-01],\n",
       "        [ 3.12813342e-01,  1.08327433e-01,  8.30687165e-01,\n",
       "         -1.96579192e-02,  1.96591780e-01, -1.42803565e-01,\n",
       "          8.38258624e-01, -9.24004018e-01, -4.00931925e-01,\n",
       "         -4.72040266e-01],\n",
       "        [-1.93614781e-01, -1.31848529e-02,  5.76392002e-02,\n",
       "          2.87495870e-02, -1.33025274e-01,  1.80396780e-01,\n",
       "          1.57057047e-01, -2.85438448e-01, -1.87867340e-02,\n",
       "          2.03243300e-01]], dtype=float32),\n",
       " array([-0.09260341, -0.01808143,  0.39573085, -0.10563879, -0.02341777,\n",
       "         0.02007767,  0.34923336, -0.06296619, -0.12520017, -0.13695815],\n",
       "       dtype=float32),\n",
       " array([[-0.6561438 ],\n",
       "        [-0.43362337],\n",
       "        [ 0.7775905 ],\n",
       "        [-0.4577761 ],\n",
       "        [-0.3891112 ],\n",
       "        [-0.12787093],\n",
       "        [ 1.0350499 ],\n",
       "        [-0.672336  ],\n",
       "        [-0.5582226 ],\n",
       "        [-0.45420426]], dtype=float32),\n",
       " array([0.24950428], dtype=float32)]"
      ]
     },
     "execution_count": 30,
     "metadata": {},
     "output_type": "execute_result"
    }
   ],
   "source": [
    "model.get_weights()"
   ]
  },
  {
   "cell_type": "code",
   "execution_count": 34,
   "metadata": {
    "colab": {
     "base_uri": "https://localhost:8080/",
     "height": 594
    },
    "id": "h2jKnSGeuuLY",
    "outputId": "0cec1c94-110c-4059-bafe-342baecc9831"
   },
   "outputs": [
    {
     "name": "stdout",
     "output_type": "stream",
     "text": [
      "3888/3888 [==============================] - 6s 1ms/step\n"
     ]
    },
    {
     "ename": "TypeError",
     "evalue": "ignored",
     "output_type": "error",
     "traceback": [
      "\u001b[0;31m---------------------------------------------------------------------------\u001b[0m",
      "\u001b[0;31mTypeError\u001b[0m                                 Traceback (most recent call last)",
      "\u001b[0;32m<ipython-input-34-41e153808dc5>\u001b[0m in \u001b[0;36m<module>\u001b[0;34m\u001b[0m\n\u001b[1;32m      1\u001b[0m \u001b[0;32mfrom\u001b[0m \u001b[0mmlxtend\u001b[0m\u001b[0;34m.\u001b[0m\u001b[0mplotting\u001b[0m \u001b[0;32mimport\u001b[0m \u001b[0mplot_decision_regions\u001b[0m\u001b[0;34m\u001b[0m\u001b[0;34m\u001b[0m\u001b[0m\n\u001b[0;32m----> 2\u001b[0;31m \u001b[0mplot_decision_regions\u001b[0m\u001b[0;34m(\u001b[0m\u001b[0mX\u001b[0m\u001b[0;34m,\u001b[0m\u001b[0my\u001b[0m\u001b[0;34m.\u001b[0m\u001b[0mastype\u001b[0m\u001b[0;34m(\u001b[0m\u001b[0;34m'int'\u001b[0m\u001b[0;34m)\u001b[0m\u001b[0;34m,\u001b[0m \u001b[0mclf\u001b[0m\u001b[0;34m=\u001b[0m\u001b[0mmodel\u001b[0m\u001b[0;34m,\u001b[0m \u001b[0mlegend\u001b[0m\u001b[0;34m=\u001b[0m\u001b[0;36m2\u001b[0m\u001b[0;34m)\u001b[0m\u001b[0;34m\u001b[0m\u001b[0;34m\u001b[0m\u001b[0m\n\u001b[0m",
      "\u001b[0;32m/usr/local/lib/python3.8/dist-packages/mlxtend/plotting/decision_regions.py\u001b[0m in \u001b[0;36mplot_decision_regions\u001b[0;34m(X, y, clf, feature_index, filler_feature_values, filler_feature_ranges, ax, X_highlight, res, legend, hide_spines, markers, colors, scatter_kwargs, contourf_kwargs, scatter_highlight_kwargs)\u001b[0m\n\u001b[1;32m    242\u001b[0m                antialiased=True)\n\u001b[1;32m    243\u001b[0m \u001b[0;34m\u001b[0m\u001b[0m\n\u001b[0;32m--> 244\u001b[0;31m     \u001b[0max\u001b[0m\u001b[0;34m.\u001b[0m\u001b[0maxis\u001b[0m\u001b[0;34m(\u001b[0m\u001b[0mxmin\u001b[0m\u001b[0;34m=\u001b[0m\u001b[0mxx\u001b[0m\u001b[0;34m.\u001b[0m\u001b[0mmin\u001b[0m\u001b[0;34m(\u001b[0m\u001b[0;34m)\u001b[0m\u001b[0;34m,\u001b[0m \u001b[0mxmax\u001b[0m\u001b[0;34m=\u001b[0m\u001b[0mxx\u001b[0m\u001b[0;34m.\u001b[0m\u001b[0mmax\u001b[0m\u001b[0;34m(\u001b[0m\u001b[0;34m)\u001b[0m\u001b[0;34m,\u001b[0m \u001b[0my_min\u001b[0m\u001b[0;34m=\u001b[0m\u001b[0myy\u001b[0m\u001b[0;34m.\u001b[0m\u001b[0mmin\u001b[0m\u001b[0;34m(\u001b[0m\u001b[0;34m)\u001b[0m\u001b[0;34m,\u001b[0m \u001b[0my_max\u001b[0m\u001b[0;34m=\u001b[0m\u001b[0myy\u001b[0m\u001b[0;34m.\u001b[0m\u001b[0mmax\u001b[0m\u001b[0;34m(\u001b[0m\u001b[0;34m)\u001b[0m\u001b[0;34m)\u001b[0m\u001b[0;34m\u001b[0m\u001b[0;34m\u001b[0m\u001b[0m\n\u001b[0m\u001b[1;32m    245\u001b[0m \u001b[0;34m\u001b[0m\u001b[0m\n\u001b[1;32m    246\u001b[0m     \u001b[0;31m# Scatter training data samples\u001b[0m\u001b[0;34m\u001b[0m\u001b[0;34m\u001b[0m\u001b[0;34m\u001b[0m\u001b[0m\n",
      "\u001b[0;32m/usr/local/lib/python3.8/dist-packages/matplotlib/axes/_base.py\u001b[0m in \u001b[0;36maxis\u001b[0;34m(self, emit, *args, **kwargs)\u001b[0m\n\u001b[1;32m   2097\u001b[0m             \u001b[0mself\u001b[0m\u001b[0;34m.\u001b[0m\u001b[0mset_ylim\u001b[0m\u001b[0;34m(\u001b[0m\u001b[0mymin\u001b[0m\u001b[0;34m,\u001b[0m \u001b[0mymax\u001b[0m\u001b[0;34m,\u001b[0m \u001b[0memit\u001b[0m\u001b[0;34m=\u001b[0m\u001b[0memit\u001b[0m\u001b[0;34m,\u001b[0m \u001b[0mauto\u001b[0m\u001b[0;34m=\u001b[0m\u001b[0myauto\u001b[0m\u001b[0;34m)\u001b[0m\u001b[0;34m\u001b[0m\u001b[0;34m\u001b[0m\u001b[0m\n\u001b[1;32m   2098\u001b[0m         \u001b[0;32mif\u001b[0m \u001b[0mkwargs\u001b[0m\u001b[0;34m:\u001b[0m\u001b[0;34m\u001b[0m\u001b[0;34m\u001b[0m\u001b[0m\n\u001b[0;32m-> 2099\u001b[0;31m             raise TypeError(f\"axis() got an unexpected keyword argument \"\n\u001b[0m\u001b[1;32m   2100\u001b[0m                             f\"'{next(iter(kwargs))}'\")\n\u001b[1;32m   2101\u001b[0m         \u001b[0;32mreturn\u001b[0m \u001b[0;34m(\u001b[0m\u001b[0;34m*\u001b[0m\u001b[0mself\u001b[0m\u001b[0;34m.\u001b[0m\u001b[0mget_xlim\u001b[0m\u001b[0;34m(\u001b[0m\u001b[0;34m)\u001b[0m\u001b[0;34m,\u001b[0m \u001b[0;34m*\u001b[0m\u001b[0mself\u001b[0m\u001b[0;34m.\u001b[0m\u001b[0mget_ylim\u001b[0m\u001b[0;34m(\u001b[0m\u001b[0;34m)\u001b[0m\u001b[0;34m)\u001b[0m\u001b[0;34m\u001b[0m\u001b[0;34m\u001b[0m\u001b[0m\n",
      "\u001b[0;31mTypeError\u001b[0m: axis() got an unexpected keyword argument 'y_min'"
     ]
    },
    {
     "data": {
      "image/png": "[encoded data removed]",
      "text/plain": [
       "<Figure size 432x288 with 1 Axes>"
      ]
     },
     "metadata": {
      "needs_background": "light"
     },
     "output_type": "display_data"
    }
   ],
   "source": [
    "from mlxtend.plotting import plot_decision_regions\n",
    "plot_decision_regions(X,y.astype('int'), clf=model, legend=2)"
   ]
  },
  {
   "cell_type": "code",
   "execution_count": 44,
   "metadata": {
    "colab": {
     "base_uri": "https://localhost:8080/"
    },
    "id": "6cQtO9mpuxLI",
    "outputId": "ab1933f4-5491-45a4-941b-1131fff2940a"
   },
   "outputs": [
    {
     "data": {
      "text/plain": [
       "array([[ 5.40211406e-03, -1.14245737e-03,  5.12946027e-03,\n",
       "        -4.07026060e-03, -6.13647563e-03, -1.47693848e-02,\n",
       "        -2.15265312e-03, -9.64243322e-04,  5.79324314e-03,\n",
       "         1.91053837e-02],\n",
       "       [ 3.68047112e-05, -1.74334285e-02,  2.29606194e-03,\n",
       "        -5.54747853e-03,  1.42001952e-02, -1.12431301e-02,\n",
       "        -4.62391290e-03, -5.27042294e-03, -3.85324983e-04,\n",
       "         3.20500066e-03],\n",
       "       [ 4.60165713e-03, -9.94864970e-03, -1.68973994e-02,\n",
       "        -3.62763648e-03,  1.28609369e-02,  4.65951746e-03,\n",
       "        -4.11531143e-03, -1.34164984e-02,  5.74642485e-03,\n",
       "        -8.98065075e-03],\n",
       "       [ 1.37204199e-02,  1.32302157e-02,  9.18060099e-03,\n",
       "        -2.32512396e-02, -5.47798374e-03, -1.11037928e-02,\n",
       "        -5.68769601e-03,  6.54963512e-03,  1.34083383e-02,\n",
       "        -2.23303828e-03],\n",
       "       [ 7.74989079e-03,  1.24778207e-02,  1.60323917e-02,\n",
       "         7.26412007e-03,  5.80766073e-03, -1.35402894e-02,\n",
       "         3.15401180e-03,  4.01664319e-03, -5.17714799e-03,\n",
       "         1.68570776e-02],\n",
       "       [-2.00087760e-03,  1.54536762e-02, -1.32297560e-02,\n",
       "        -2.37480211e-02,  1.28754032e-02,  5.87752642e-03,\n",
       "         1.85116141e-02,  4.00802611e-03,  3.04094274e-02,\n",
       "         2.94507779e-04],\n",
       "       [ 1.70281639e-02, -1.39003750e-02, -2.00431897e-02,\n",
       "        -8.71128446e-03, -2.69248933e-03,  6.55076782e-03,\n",
       "         1.82532009e-02,  6.69681443e-03, -6.30529391e-03,\n",
       "         1.01213931e-02],\n",
       "       [ 6.22566294e-03,  9.32626755e-03, -8.13657155e-03,\n",
       "        -1.11678086e-02, -2.69152447e-03, -1.35527804e-03,\n",
       "        -1.53762738e-03,  5.52412796e-03, -9.15686358e-03,\n",
       "        -1.74363140e-02],\n",
       "       [-1.54540774e-02,  3.23265942e-03, -5.34151531e-03,\n",
       "         1.40655365e-02,  1.69008077e-02, -4.80580674e-04,\n",
       "        -3.35861668e-04,  1.30982694e-02, -3.43991340e-03,\n",
       "         1.13559003e-02],\n",
       "       [-2.50124272e-03, -4.72285039e-03, -4.38704541e-03,\n",
       "         4.46566476e-03,  2.59472417e-03,  9.47912574e-03,\n",
       "         2.48804580e-03,  1.77465790e-02, -3.69167927e-03,\n",
       "         5.02886943e-03]])"
      ]
     },
     "execution_count": 44,
     "metadata": {},
     "output_type": "execute_result"
    }
   ],
   "source": [
    "(np.random.randn(10,10)*0.01)"
   ]
  },
  {
   "cell_type": "code",
   "execution_count": 36,
   "metadata": {
    "colab": {
     "base_uri": "https://localhost:8080/"
    },
    "id": "diiaUiL92T7H",
    "outputId": "2b1d82c7-5423-41cd-e14c-3503b4337076"
   },
   "outputs": [
    {
     "data": {
      "text/plain": [
       "0.02128566072959708"
      ]
     },
     "execution_count": 36,
     "metadata": {},
     "output_type": "execute_result"
    }
   ],
   "source": [
    "(np.random.randn(10,10)*0.01).max()"
   ]
  },
  {
   "cell_type": "code",
   "execution_count": null,
   "metadata": {
    "id": "b2DJRNfI3BOE"
   },
   "outputs": [],
   "source": []
  }
 ],
 "metadata": {
  "accelerator": "GPU",
  "colab": {
   "provenance": []
  },
  "gpuClass": "standard",
  "kernelspec": {
   "display_name": "Python 3 (ipykernel)",
   "language": "python",
   "name": "python3"
  },
  "language_info": {
   "codemirror_mode": {
    "name": "ipython",
    "version": 3
   },
   "file_extension": ".py",
   "mimetype": "text/x-python",
   "name": "python",
   "nbconvert_exporter": "python",
   "pygments_lexer": "ipython3",
   "version": "3.9.12"
  }
 },
 "nbformat": 4,
 "nbformat_minor": 1
}
