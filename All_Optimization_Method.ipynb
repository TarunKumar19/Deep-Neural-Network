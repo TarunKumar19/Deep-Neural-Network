{
  "nbformat": 4,
  "nbformat_minor": 0,
  "metadata": {
    "colab": {
      "provenance": []
    },
    "kernelspec": {
      "name": "python3",
      "display_name": "Python 3"
    },
    "language_info": {
      "name": "python"
    },
    "accelerator": "GPU",
    "gpuClass": "standard"
  },
  "cells": [
    {
      "cell_type": "code",
      "execution_count": 8,
      "metadata": {
        "colab": {
          "base_uri": "https://localhost:8080/"
        },
        "id": "ir7sFiU1aWQL",
        "outputId": "05b3b3b5-2de0-415b-a24a-3a7e5d9f4ca8"
      },
      "outputs": [
        {
          "output_type": "stream",
          "name": "stdout",
          "text": [
            "(60000, 28, 28) (60000,) (10000, 28, 28) (10000,)\n"
          ]
        }
      ],
      "source": [
        "import tensorflow as tf\n",
        "from tensorflow import keras\n",
        "from keras.datasets import mnist\n",
        "from keras.models import Sequential\n",
        "from keras.layers import Dense, Flatten, Dropout\n",
        "\n",
        "\n",
        "(x_train, y_train),(x_test, y_test) = mnist.load_data()\n",
        "print(x_train.shape, y_train.shape, x_test.shape, y_test.shape)"
      ]
    },
    {
      "cell_type": "code",
      "source": [
        "x_train = x_train.reshape(x_train.shape[0],28,28,1)\n",
        "x_test = x_test.reshape(x_test.shape[0],28,28,1)"
      ],
      "metadata": {
        "id": "t82flMyPa66s"
      },
      "execution_count": 2,
      "outputs": []
    },
    {
      "cell_type": "code",
      "source": [
        "input_shape=(28,28,1)"
      ],
      "metadata": {
        "id": "tUkTQFPeaa8o"
      },
      "execution_count": 3,
      "outputs": []
    },
    {
      "cell_type": "code",
      "source": [
        "y_train = keras.utils.to_categorical(y_train)\n",
        "\n",
        "y_test = keras.utils.to_categorical(y_test)"
      ],
      "metadata": {
        "id": "Bbqatcqwbg59"
      },
      "execution_count": 4,
      "outputs": []
    },
    {
      "cell_type": "code",
      "source": [
        "x_train = x_train/255.0\n",
        "x_test = x_test/255.0"
      ],
      "metadata": {
        "id": "Lgw8PIu6aa_5"
      },
      "execution_count": 5,
      "outputs": []
    },
    {
      "cell_type": "code",
      "source": [
        "def build_model(optimizer):\n",
        "  model = Sequential()\n",
        "  model.add(Flatten())\n",
        "  model.add(Dense(256, activation='relu', input_shape=input_shape))\n",
        "  model.add(Dropout(0.25))\n",
        "  model.add(Dense(256, activation='relu'))\n",
        "  model.add(Dropout(0.50))\n",
        "  model.add(Dense(10, activation='softmax'))\n",
        "  model.compile(loss=keras.losses.categorical_crossentropy, optimizer=optimizer, metrics=['accuracy'])\n",
        "  return model"
      ],
      "metadata": {
        "id": "1YPk6GpfabDD"
      },
      "execution_count": 6,
      "outputs": []
    },
    {
      "cell_type": "code",
      "source": [
        "optimizers = ['Adadelta','Adagrad','Adam', 'RMSprop', 'SGD']\n",
        "\n",
        "for i in optimizers:\n",
        "  model = build_model(i)\n",
        "  history = model.fit(x_train, y_train, validation_data=(x_test, y_test), epochs=10, verbose=1)"
      ],
      "metadata": {
        "colab": {
          "base_uri": "https://localhost:8080/"
        },
        "id": "NZn8D-AJdlYJ",
        "outputId": "2bba759e-7771-48aa-9dd5-43b3b997d23a"
      },
      "execution_count": 7,
      "outputs": [
        {
          "output_type": "stream",
          "name": "stdout",
          "text": [
            "Epoch 1/10\n",
            "1875/1875 [==============================] - 20s 7ms/step - loss: 2.3089 - accuracy: 0.1342 - val_loss: 2.2067 - val_accuracy: 0.2625\n",
            "Epoch 2/10\n",
            "1875/1875 [==============================] - 8s 4ms/step - loss: 2.2094 - accuracy: 0.1957 - val_loss: 2.1024 - val_accuracy: 0.4371\n",
            "Epoch 3/10\n",
            "1875/1875 [==============================] - 8s 4ms/step - loss: 2.1157 - accuracy: 0.2727 - val_loss: 1.9948 - val_accuracy: 0.5718\n",
            "Epoch 4/10\n",
            "1875/1875 [==============================] - 9s 5ms/step - loss: 2.0152 - accuracy: 0.3505 - val_loss: 1.8805 - val_accuracy: 0.6430\n",
            "Epoch 5/10\n",
            "1875/1875 [==============================] - 7s 4ms/step - loss: 1.9119 - accuracy: 0.4232 - val_loss: 1.7602 - val_accuracy: 0.6876\n",
            "Epoch 6/10\n",
            "1875/1875 [==============================] - 8s 4ms/step - loss: 1.8061 - accuracy: 0.4795 - val_loss: 1.6369 - val_accuracy: 0.7182\n",
            "Epoch 7/10\n",
            "1875/1875 [==============================] - 8s 4ms/step - loss: 1.6970 - accuracy: 0.5264 - val_loss: 1.5144 - val_accuracy: 0.7376\n",
            "Epoch 8/10\n",
            "1875/1875 [==============================] - 8s 4ms/step - loss: 1.5958 - accuracy: 0.5600 - val_loss: 1.3981 - val_accuracy: 0.7555\n",
            "Epoch 9/10\n",
            "1875/1875 [==============================] - 9s 5ms/step - loss: 1.4991 - accuracy: 0.5866 - val_loss: 1.2898 - val_accuracy: 0.7683\n",
            "Epoch 10/10\n",
            "1875/1875 [==============================] - 8s 4ms/step - loss: 1.4100 - accuracy: 0.6124 - val_loss: 1.1912 - val_accuracy: 0.7824\n",
            "Epoch 1/10\n",
            "1875/1875 [==============================] - 10s 5ms/step - loss: 1.5009 - accuracy: 0.5360 - val_loss: 0.7398 - val_accuracy: 0.8349\n",
            "Epoch 2/10\n",
            "1875/1875 [==============================] - 8s 4ms/step - loss: 0.8060 - accuracy: 0.7563 - val_loss: 0.4930 - val_accuracy: 0.8766\n",
            "Epoch 3/10\n",
            "1875/1875 [==============================] - 7s 4ms/step - loss: 0.6336 - accuracy: 0.8113 - val_loss: 0.4129 - val_accuracy: 0.8918\n",
            "Epoch 4/10\n",
            "1875/1875 [==============================] - 8s 4ms/step - loss: 0.5538 - accuracy: 0.8364 - val_loss: 0.3692 - val_accuracy: 0.9023\n",
            "Epoch 5/10\n",
            "1875/1875 [==============================] - 7s 4ms/step - loss: 0.5082 - accuracy: 0.8495 - val_loss: 0.3430 - val_accuracy: 0.9071\n",
            "Epoch 6/10\n",
            "1875/1875 [==============================] - 9s 5ms/step - loss: 0.4736 - accuracy: 0.8600 - val_loss: 0.3236 - val_accuracy: 0.9116\n",
            "Epoch 7/10\n",
            "1875/1875 [==============================] - 9s 5ms/step - loss: 0.4472 - accuracy: 0.8679 - val_loss: 0.3077 - val_accuracy: 0.9155\n",
            "Epoch 8/10\n",
            "1875/1875 [==============================] - 7s 4ms/step - loss: 0.4243 - accuracy: 0.8765 - val_loss: 0.2953 - val_accuracy: 0.9185\n",
            "Epoch 9/10\n",
            "1875/1875 [==============================] - 9s 5ms/step - loss: 0.4097 - accuracy: 0.8784 - val_loss: 0.2852 - val_accuracy: 0.9210\n",
            "Epoch 10/10\n",
            "1875/1875 [==============================] - 8s 4ms/step - loss: 0.3953 - accuracy: 0.8841 - val_loss: 0.2761 - val_accuracy: 0.9235\n",
            "Epoch 1/10\n",
            "1875/1875 [==============================] - 15s 7ms/step - loss: 0.2919 - accuracy: 0.9119 - val_loss: 0.1168 - val_accuracy: 0.9640\n",
            "Epoch 2/10\n",
            "1875/1875 [==============================] - 11s 6ms/step - loss: 0.1419 - accuracy: 0.9572 - val_loss: 0.0896 - val_accuracy: 0.9714\n",
            "Epoch 3/10\n",
            "1875/1875 [==============================] - 10s 5ms/step - loss: 0.1109 - accuracy: 0.9660 - val_loss: 0.0793 - val_accuracy: 0.9766\n",
            "Epoch 4/10\n",
            "1875/1875 [==============================] - 9s 5ms/step - loss: 0.0965 - accuracy: 0.9705 - val_loss: 0.0821 - val_accuracy: 0.9755\n",
            "Epoch 5/10\n",
            "1875/1875 [==============================] - 9s 5ms/step - loss: 0.0861 - accuracy: 0.9736 - val_loss: 0.0742 - val_accuracy: 0.9785\n",
            "Epoch 6/10\n",
            "1875/1875 [==============================] - 8s 4ms/step - loss: 0.0763 - accuracy: 0.9767 - val_loss: 0.0777 - val_accuracy: 0.9776\n",
            "Epoch 7/10\n",
            "1875/1875 [==============================] - 8s 5ms/step - loss: 0.0723 - accuracy: 0.9778 - val_loss: 0.0755 - val_accuracy: 0.9766\n",
            "Epoch 8/10\n",
            "1875/1875 [==============================] - 9s 5ms/step - loss: 0.0681 - accuracy: 0.9793 - val_loss: 0.0740 - val_accuracy: 0.9785\n",
            "Epoch 9/10\n",
            "1875/1875 [==============================] - 8s 4ms/step - loss: 0.0612 - accuracy: 0.9806 - val_loss: 0.0747 - val_accuracy: 0.9805\n",
            "Epoch 10/10\n",
            "1875/1875 [==============================] - 7s 4ms/step - loss: 0.0590 - accuracy: 0.9812 - val_loss: 0.0742 - val_accuracy: 0.9818\n",
            "Epoch 1/10\n",
            "1875/1875 [==============================] - 10s 5ms/step - loss: 0.2947 - accuracy: 0.9137 - val_loss: 0.1288 - val_accuracy: 0.9624\n",
            "Epoch 2/10\n",
            "1875/1875 [==============================] - 9s 5ms/step - loss: 0.1603 - accuracy: 0.9561 - val_loss: 0.1116 - val_accuracy: 0.9711\n",
            "Epoch 3/10\n",
            "1875/1875 [==============================] - 8s 4ms/step - loss: 0.1360 - accuracy: 0.9657 - val_loss: 0.1049 - val_accuracy: 0.9749\n",
            "Epoch 4/10\n",
            "1875/1875 [==============================] - 8s 4ms/step - loss: 0.1204 - accuracy: 0.9705 - val_loss: 0.1126 - val_accuracy: 0.9762\n",
            "Epoch 5/10\n",
            "1875/1875 [==============================] - 8s 4ms/step - loss: 0.1134 - accuracy: 0.9726 - val_loss: 0.1078 - val_accuracy: 0.9763\n",
            "Epoch 6/10\n",
            "1875/1875 [==============================] - 7s 4ms/step - loss: 0.1055 - accuracy: 0.9756 - val_loss: 0.1161 - val_accuracy: 0.9761\n",
            "Epoch 7/10\n",
            "1875/1875 [==============================] - 9s 5ms/step - loss: 0.0998 - accuracy: 0.9770 - val_loss: 0.1087 - val_accuracy: 0.9795\n",
            "Epoch 8/10\n",
            "1875/1875 [==============================] - 8s 4ms/step - loss: 0.0942 - accuracy: 0.9779 - val_loss: 0.1133 - val_accuracy: 0.9804\n",
            "Epoch 9/10\n",
            "1875/1875 [==============================] - 8s 4ms/step - loss: 0.0945 - accuracy: 0.9784 - val_loss: 0.1038 - val_accuracy: 0.9814\n",
            "Epoch 10/10\n",
            "1875/1875 [==============================] - 8s 4ms/step - loss: 0.0859 - accuracy: 0.9799 - val_loss: 0.1042 - val_accuracy: 0.9816\n",
            "Epoch 1/10\n",
            "1875/1875 [==============================] - 10s 5ms/step - loss: 0.8276 - accuracy: 0.7478 - val_loss: 0.3347 - val_accuracy: 0.9030\n",
            "Epoch 2/10\n",
            "1875/1875 [==============================] - 8s 4ms/step - loss: 0.4053 - accuracy: 0.8807 - val_loss: 0.2521 - val_accuracy: 0.9268\n",
            "Epoch 3/10\n",
            "1875/1875 [==============================] - 9s 5ms/step - loss: 0.3241 - accuracy: 0.9042 - val_loss: 0.2133 - val_accuracy: 0.9362\n",
            "Epoch 4/10\n",
            "1875/1875 [==============================] - 8s 4ms/step - loss: 0.2752 - accuracy: 0.9197 - val_loss: 0.1870 - val_accuracy: 0.9447\n",
            "Epoch 5/10\n",
            "1875/1875 [==============================] - 8s 4ms/step - loss: 0.2440 - accuracy: 0.9282 - val_loss: 0.1644 - val_accuracy: 0.9512\n",
            "Epoch 6/10\n",
            "1875/1875 [==============================] - 8s 4ms/step - loss: 0.2219 - accuracy: 0.9337 - val_loss: 0.1492 - val_accuracy: 0.9546\n",
            "Epoch 7/10\n",
            "1875/1875 [==============================] - 8s 4ms/step - loss: 0.2012 - accuracy: 0.9410 - val_loss: 0.1372 - val_accuracy: 0.9566\n",
            "Epoch 8/10\n",
            "1875/1875 [==============================] - 8s 4ms/step - loss: 0.1845 - accuracy: 0.9451 - val_loss: 0.1267 - val_accuracy: 0.9613\n",
            "Epoch 9/10\n",
            "1875/1875 [==============================] - 8s 4ms/step - loss: 0.1736 - accuracy: 0.9491 - val_loss: 0.1191 - val_accuracy: 0.9625\n",
            "Epoch 10/10\n",
            "1875/1875 [==============================] - 8s 4ms/step - loss: 0.1615 - accuracy: 0.9524 - val_loss: 0.1123 - val_accuracy: 0.9657\n"
          ]
        }
      ]
    },
    {
      "cell_type": "code",
      "source": [
        "# Conclusion\n",
        "## Adadelta :loss: 1.4100 - accuracy: 0.6124 - val_loss: 1.1912 - val_accuracy: 0.7824\n",
        "## Adagrad : loss: 0.3953 - accuracy: 0.8841 - val_loss: 0.2761 - val_accuracy: 0.9235\n",
        "## Adam : loss: 0.0590 - accuracy: 0.9812 - val_loss: 0.0742 - val_accuracy: 0.9818\n",
        "## RMSprop : loss: 0.0859 - accuracy: 0.9799 - val_loss: 0.1042 - val_accuracy: 0.9816\n",
        "## SGD : loss: 0.1615 - accuracy: 0.9524 - val_loss: 0.1123 - val_accuracy: 0.9657"
      ],
      "metadata": {
        "id": "NIWX-8CgabGb"
      },
      "execution_count": 7,
      "outputs": []
    },
    {
      "cell_type": "code",
      "source": [],
      "metadata": {
        "id": "m_he1vP6abJD"
      },
      "execution_count": 7,
      "outputs": []
    },
    {
      "cell_type": "code",
      "source": [],
      "metadata": {
        "id": "6r2UNJfCabMM"
      },
      "execution_count": 7,
      "outputs": []
    },
    {
      "cell_type": "code",
      "source": [],
      "metadata": {
        "id": "RDM3rBayabO9"
      },
      "execution_count": 7,
      "outputs": []
    },
    {
      "cell_type": "code",
      "source": [],
      "metadata": {
        "id": "V9sdpfCkabSD"
      },
      "execution_count": 7,
      "outputs": []
    },
    {
      "cell_type": "code",
      "source": [],
      "metadata": {
        "id": "5WuEK9xOabVL"
      },
      "execution_count": 7,
      "outputs": []
    },
    {
      "cell_type": "code",
      "source": [],
      "metadata": {
        "id": "95odrrN_abX6"
      },
      "execution_count": 7,
      "outputs": []
    },
    {
      "cell_type": "code",
      "source": [],
      "metadata": {
        "id": "MkBFKV8oaba7"
      },
      "execution_count": 7,
      "outputs": []
    },
    {
      "cell_type": "code",
      "source": [],
      "metadata": {
        "id": "fli28Amtabd8"
      },
      "execution_count": 7,
      "outputs": []
    },
    {
      "cell_type": "code",
      "source": [],
      "metadata": {
        "id": "thWlUpBoabgn"
      },
      "execution_count": 7,
      "outputs": []
    },
    {
      "cell_type": "code",
      "source": [],
      "metadata": {
        "id": "6DfM6NVcabjn"
      },
      "execution_count": 7,
      "outputs": []
    },
    {
      "cell_type": "code",
      "source": [],
      "metadata": {
        "id": "06Q47f22abmV"
      },
      "execution_count": 7,
      "outputs": []
    },
    {
      "cell_type": "code",
      "source": [],
      "metadata": {
        "id": "gTBoFvyPabph"
      },
      "execution_count": 7,
      "outputs": []
    }
  ]
}